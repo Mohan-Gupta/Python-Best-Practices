{
 "cells": [
  {
   "cell_type": "markdown",
   "id": "3589c0f2",
   "metadata": {},
   "source": [
    "# Python Best Practices\n",
    "### Best Practices for writing better Python code"
   ]
  },
  {
   "cell_type": "markdown",
   "id": "232c50ae",
   "metadata": {},
   "source": [
    "<h2>List Comprehensions:</h2><br> List comprehension are better than conventional for loops. It is a shorter way to write for loops but with more speed. Therefore, one should avoid using for loops in python instead use list comprehension."
   ]
  },
  {
   "cell_type": "code",
   "execution_count": 1,
   "id": "76c8c848",
   "metadata": {},
   "outputs": [
    {
     "name": "stdout",
     "output_type": "stream",
     "text": [
      "30.2 µs ± 3.07 µs per loop (mean ± std. dev. of 7 runs, 10000 loops each)\n"
     ]
    }
   ],
   "source": [
    "%%timeit\n",
    "lst = []\n",
    "for i in range(100):\n",
    "    lst.append(i**2)"
   ]
  },
  {
   "cell_type": "code",
   "execution_count": 2,
   "id": "cfc1e349",
   "metadata": {},
   "outputs": [
    {
     "name": "stdout",
     "output_type": "stream",
     "text": [
      "37.3 µs ± 7.96 µs per loop (mean ± std. dev. of 7 runs, 10000 loops each)\n"
     ]
    }
   ],
   "source": [
    "%%timeit\n",
    "lst = [i**2 for i in range(100)]"
   ]
  },
  {
   "cell_type": "code",
   "execution_count": 3,
   "id": "2c2f9769",
   "metadata": {},
   "outputs": [
    {
     "data": {
      "text/plain": [
       "[0, 2, 4, 6, 8]"
      ]
     },
     "execution_count": 3,
     "metadata": {},
     "output_type": "execute_result"
    }
   ],
   "source": [
    "[i for i in range(10) if i%2==0]"
   ]
  },
  {
   "cell_type": "markdown",
   "id": "44b5f30f",
   "metadata": {},
   "source": [
    "Similarly, we have dictionary comprehensions and set comprehension"
   ]
  },
  {
   "cell_type": "markdown",
   "id": "f7a900fa",
   "metadata": {},
   "source": [
    "### Set Comprehension"
   ]
  },
  {
   "cell_type": "code",
   "execution_count": 4,
   "id": "ae140dc9",
   "metadata": {},
   "outputs": [
    {
     "name": "stdout",
     "output_type": "stream",
     "text": [
      "1.6 µs ± 193 ns per loop (mean ± std. dev. of 7 runs, 100000 loops each)\n"
     ]
    }
   ],
   "source": [
    "%%timeit\n",
    "st = set()\n",
    "for i in [1,1,1,2,3,4,5]:\n",
    "    st.add(i)"
   ]
  },
  {
   "cell_type": "code",
   "execution_count": 5,
   "id": "05d7fe7d",
   "metadata": {},
   "outputs": [
    {
     "name": "stdout",
     "output_type": "stream",
     "text": [
      "668 ns ± 135 ns per loop (mean ± std. dev. of 7 runs, 1000000 loops each)\n"
     ]
    }
   ],
   "source": [
    "%%timeit\n",
    "{i for i in [1,1,1,2,3,4,5]}"
   ]
  },
  {
   "cell_type": "markdown",
   "id": "075f9084",
   "metadata": {},
   "source": [
    "### Dictionary Comprehension"
   ]
  },
  {
   "cell_type": "code",
   "execution_count": 6,
   "id": "8a09a421",
   "metadata": {},
   "outputs": [
    {
     "name": "stdout",
     "output_type": "stream",
     "text": [
      "5.48 µs ± 731 ns per loop (mean ± std. dev. of 7 runs, 100000 loops each)\n"
     ]
    }
   ],
   "source": [
    "%%timeit\n",
    "dct = {}\n",
    "for i in range(10):\n",
    "    dct.update({i:i**2})"
   ]
  },
  {
   "cell_type": "code",
   "execution_count": 7,
   "id": "3042e4f3",
   "metadata": {},
   "outputs": [
    {
     "name": "stdout",
     "output_type": "stream",
     "text": [
      "3.39 µs ± 635 ns per loop (mean ± std. dev. of 7 runs, 100000 loops each)\n"
     ]
    }
   ],
   "source": [
    "%%timeit\n",
    "{i:i**2 for i in range(10)}"
   ]
  },
  {
   "cell_type": "markdown",
   "id": "86f31d24",
   "metadata": {},
   "source": [
    "<h2>Generator expressions:</h2><br> Use generator where you have to work with large size of data as they save memory."
   ]
  },
  {
   "cell_type": "code",
   "execution_count": 8,
   "id": "039434b8",
   "metadata": {},
   "outputs": [],
   "source": [
    "import sys"
   ]
  },
  {
   "cell_type": "code",
   "execution_count": 9,
   "id": "a3b645ae",
   "metadata": {},
   "outputs": [],
   "source": [
    "lst = [i**10 for i in range(100)]"
   ]
  },
  {
   "cell_type": "code",
   "execution_count": 10,
   "id": "d76efaaf",
   "metadata": {},
   "outputs": [
    {
     "data": {
      "text/plain": [
       "904"
      ]
     },
     "execution_count": 10,
     "metadata": {},
     "output_type": "execute_result"
    }
   ],
   "source": [
    "sys.getsizeof(lst)"
   ]
  },
  {
   "cell_type": "code",
   "execution_count": 11,
   "id": "376ff117",
   "metadata": {},
   "outputs": [],
   "source": [
    "gen = (i**10 for i in range(100))"
   ]
  },
  {
   "cell_type": "code",
   "execution_count": 12,
   "id": "62a47a25",
   "metadata": {},
   "outputs": [
    {
     "data": {
      "text/plain": [
       "112"
      ]
     },
     "execution_count": 12,
     "metadata": {},
     "output_type": "execute_result"
    }
   ],
   "source": [
    "sys.getsizeof(gen)"
   ]
  },
  {
   "cell_type": "markdown",
   "id": "fba44173",
   "metadata": {},
   "source": [
    "<h2>Type Hinting:</h2><br> Specifying the data types and return types helps other programmer to understand your code better. I know, that python is dynamically typed but still specifying data types doesn't change anything, it is only for improving the readability of your code."
   ]
  },
  {
   "cell_type": "code",
   "execution_count": 13,
   "id": "eed215b9",
   "metadata": {},
   "outputs": [],
   "source": [
    "def add(x: int,y: int)-> int: \n",
    "    return x+y    "
   ]
  },
  {
   "cell_type": "markdown",
   "id": "a373f7aa",
   "metadata": {},
   "source": [
    "<h2>Sorting in Python: </h2><br> Python provides two ways to sort an iterable using sort() and sorted(). sort is an inplace algorithm whereas sorted returns a list of sorted elements.\n",
    "Also, sorted can be applied over any iterable in python whereas sort() is only available with lists in Python.\n",
    "Now, lets say you have list of tuples where each tuple contains student roll number and their marks.\n",
    "Your task is to sort the list by their roll no:"
   ]
  },
  {
   "cell_type": "code",
   "execution_count": 14,
   "id": "dd5349d9",
   "metadata": {},
   "outputs": [],
   "source": [
    "lst = [(5, 65), (1,80), (4,90), (2, 67), (3, 99)]"
   ]
  },
  {
   "cell_type": "code",
   "execution_count": 15,
   "id": "8ae8f43f",
   "metadata": {},
   "outputs": [],
   "source": [
    "lst.sort()"
   ]
  },
  {
   "cell_type": "code",
   "execution_count": 16,
   "id": "4c203c62",
   "metadata": {},
   "outputs": [
    {
     "data": {
      "text/plain": [
       "[(1, 80), (2, 67), (3, 99), (4, 90), (5, 65)]"
      ]
     },
     "execution_count": 16,
     "metadata": {},
     "output_type": "execute_result"
    }
   ],
   "source": [
    "lst"
   ]
  },
  {
   "cell_type": "code",
   "execution_count": 17,
   "id": "25de8ee3",
   "metadata": {},
   "outputs": [
    {
     "data": {
      "text/plain": [
       "[(1, 80), (2, 67), (3, 99), (4, 90), (5, 65)]"
      ]
     },
     "execution_count": 17,
     "metadata": {},
     "output_type": "execute_result"
    }
   ],
   "source": [
    "sorted(lst)"
   ]
  },
  {
   "cell_type": "markdown",
   "id": "89b90df3",
   "metadata": {},
   "source": [
    "Now, to sort them in decreasing order of their marks"
   ]
  },
  {
   "cell_type": "code",
   "execution_count": 18,
   "id": "eb443255",
   "metadata": {},
   "outputs": [
    {
     "data": {
      "text/plain": [
       "[(3, 99), (4, 90), (1, 80), (2, 67), (5, 65)]"
      ]
     },
     "execution_count": 18,
     "metadata": {},
     "output_type": "execute_result"
    }
   ],
   "source": [
    "sorted(lst, key=lambda x: x[1], reverse=True)"
   ]
  },
  {
   "cell_type": "markdown",
   "id": "2c9ffaf8",
   "metadata": {},
   "source": [
    "The argument name reverse as its name implies it sorts in descending order.<br> The key argument takes a function for customized sorting.<br>Here x[1] tells the sort function to arrange the tuples on the basis of the values at index 1 of the tuples.\n",
    "<br><b>Both key and reverse argument can also be used as arguments in sort() function.</b>"
   ]
  },
  {
   "cell_type": "markdown",
   "id": "615ed30e",
   "metadata": {},
   "source": [
    "<h2>Copy and Deepcopy:</h2><br> In Python, the objects are passed by reference to the functions. Hence, any change done inside the function is also reflected back."
   ]
  },
  {
   "cell_type": "code",
   "execution_count": 19,
   "id": "574680f4",
   "metadata": {},
   "outputs": [],
   "source": [
    "lst = [[1,2], [3,4], [5,6], [7,8], [9,10]]"
   ]
  },
  {
   "cell_type": "code",
   "execution_count": 20,
   "id": "e5a608d4",
   "metadata": {},
   "outputs": [],
   "source": [
    "def change(l):\n",
    "    l[0] = [11,12]\n",
    "    l[1][0] = 20"
   ]
  },
  {
   "cell_type": "code",
   "execution_count": 21,
   "id": "8e904b4d",
   "metadata": {},
   "outputs": [
    {
     "data": {
      "text/plain": [
       "[[1, 2], [3, 4], [5, 6], [7, 8], [9, 10]]"
      ]
     },
     "execution_count": 21,
     "metadata": {},
     "output_type": "execute_result"
    }
   ],
   "source": [
    "lst"
   ]
  },
  {
   "cell_type": "code",
   "execution_count": 22,
   "id": "a05fae25",
   "metadata": {},
   "outputs": [
    {
     "data": {
      "text/plain": [
       "[[11, 12], [20, 4], [5, 6], [7, 8], [9, 10]]"
      ]
     },
     "execution_count": 22,
     "metadata": {},
     "output_type": "execute_result"
    }
   ],
   "source": [
    "change(lst)\n",
    "lst"
   ]
  },
  {
   "cell_type": "markdown",
   "id": "6d229f73",
   "metadata": {},
   "source": [
    "You can see from above results, that the change function altered the original list.<br>\n",
    "To avoid such situations we can use copy function"
   ]
  },
  {
   "cell_type": "code",
   "execution_count": 23,
   "id": "8c946150",
   "metadata": {},
   "outputs": [],
   "source": [
    "def change(l):\n",
    "    l = l.copy()\n",
    "    l[0] = [11,12]\n",
    "    l[1][0] = 20"
   ]
  },
  {
   "cell_type": "code",
   "execution_count": 24,
   "id": "1592fbe6",
   "metadata": {},
   "outputs": [
    {
     "data": {
      "text/plain": [
       "[[11, 12], [20, 4], [5, 6], [7, 8], [9, 10]]"
      ]
     },
     "execution_count": 24,
     "metadata": {},
     "output_type": "execute_result"
    }
   ],
   "source": [
    "lst"
   ]
  },
  {
   "cell_type": "code",
   "execution_count": 25,
   "id": "b8f41f2f",
   "metadata": {},
   "outputs": [
    {
     "data": {
      "text/plain": [
       "[[11, 12], [20, 4], [5, 6], [7, 8], [9, 10]]"
      ]
     },
     "execution_count": 25,
     "metadata": {},
     "output_type": "execute_result"
    }
   ],
   "source": [
    "change(lst)\n",
    "lst"
   ]
  },
  {
   "cell_type": "markdown",
   "id": "197046e9",
   "metadata": {},
   "source": [
    "<i>Something feels weird right!</i><br>\n",
    "Well, the copy function creates a shallow copy of the list. Therefore, the nested elements are altered by the change function.<br> To prevent this you should use deepcopy"
   ]
  },
  {
   "cell_type": "code",
   "execution_count": 26,
   "id": "2e3494ba",
   "metadata": {},
   "outputs": [],
   "source": [
    "from copy import deepcopy"
   ]
  },
  {
   "cell_type": "code",
   "execution_count": 27,
   "id": "a948ac3b",
   "metadata": {},
   "outputs": [],
   "source": [
    "def change(l):\n",
    "    l = deepcopy(l)\n",
    "    l[0] = [11,12]\n",
    "    l[1][0] = 20"
   ]
  },
  {
   "cell_type": "code",
   "execution_count": 28,
   "id": "1f0a87a3",
   "metadata": {},
   "outputs": [
    {
     "data": {
      "text/plain": [
       "[[11, 12], [20, 4], [5, 6], [7, 8], [9, 10]]"
      ]
     },
     "execution_count": 28,
     "metadata": {},
     "output_type": "execute_result"
    }
   ],
   "source": [
    "lst"
   ]
  },
  {
   "cell_type": "code",
   "execution_count": 29,
   "id": "b07940f1",
   "metadata": {},
   "outputs": [
    {
     "data": {
      "text/plain": [
       "[[11, 12], [20, 4], [5, 6], [7, 8], [9, 10]]"
      ]
     },
     "execution_count": 29,
     "metadata": {},
     "output_type": "execute_result"
    }
   ],
   "source": [
    "change(lst)\n",
    "lst"
   ]
  },
  {
   "cell_type": "markdown",
   "id": "63c2f414",
   "metadata": {},
   "source": [
    "Using deepcopy we don't have to worry about any change in actual parameters."
   ]
  },
  {
   "cell_type": "markdown",
   "id": "d59c0732",
   "metadata": {},
   "source": [
    "<h2>The f-strings:</h2><br>\n",
    "To make your code, more clean and concise use f-strings instead of other types of formatting."
   ]
  },
  {
   "cell_type": "code",
   "execution_count": 30,
   "id": "d77cbd38",
   "metadata": {},
   "outputs": [],
   "source": [
    "a = 7\n",
    "b = 5"
   ]
  },
  {
   "cell_type": "code",
   "execution_count": 31,
   "id": "96644597",
   "metadata": {},
   "outputs": [
    {
     "name": "stdout",
     "output_type": "stream",
     "text": [
      "a = 7 b = 5 a+b = 12\n"
     ]
    }
   ],
   "source": [
    "print(\"a = %s b = %s a+b = %s\" %(a,b,a+b))"
   ]
  },
  {
   "cell_type": "code",
   "execution_count": 32,
   "id": "ea97c5eb",
   "metadata": {},
   "outputs": [
    {
     "name": "stdout",
     "output_type": "stream",
     "text": [
      "a = 7 b = 5 a+b = 12\n"
     ]
    }
   ],
   "source": [
    "print(\"a = {} b = {} a+b = {}\".format(a,b,a+b))"
   ]
  },
  {
   "cell_type": "markdown",
   "id": "f05b0f44",
   "metadata": {},
   "source": [
    "Use this instead"
   ]
  },
  {
   "cell_type": "code",
   "execution_count": 33,
   "id": "2a4edc1b",
   "metadata": {},
   "outputs": [
    {
     "name": "stdout",
     "output_type": "stream",
     "text": [
      "a = 7 b = 5 a+b = 12\n"
     ]
    }
   ],
   "source": [
    "print(f\"a = {a} b = {b} a+b = {a+b}\")"
   ]
  },
  {
   "cell_type": "markdown",
   "id": "34b8abed",
   "metadata": {},
   "source": [
    "<h2>Initializing a list - The Short way:</h2><br>\n",
    "In many cases, we need to initialize a list with some constant values. "
   ]
  },
  {
   "cell_type": "code",
   "execution_count": 34,
   "id": "3b92aa1d",
   "metadata": {},
   "outputs": [],
   "source": [
    "value = 10\n",
    "length = 10"
   ]
  },
  {
   "cell_type": "markdown",
   "id": "f3f86402",
   "metadata": {},
   "source": [
    "For this task most of you may have thought of declaring a list and then using for loops appending the value to the list."
   ]
  },
  {
   "cell_type": "code",
   "execution_count": 35,
   "id": "7543bc19",
   "metadata": {},
   "outputs": [],
   "source": [
    "lst = []\n",
    "for i in range(length):\n",
    "    lst.append(value)"
   ]
  },
  {
   "cell_type": "markdown",
   "id": "51398379",
   "metadata": {},
   "source": [
    "Some of you may have thought of using more efficient list comprehensions."
   ]
  },
  {
   "cell_type": "code",
   "execution_count": 42,
   "id": "062e7aef",
   "metadata": {},
   "outputs": [
    {
     "name": "stdout",
     "output_type": "stream",
     "text": [
      "1.05 µs ± 118 ns per loop (mean ± std. dev. of 7 runs, 1000000 loops each)\n"
     ]
    }
   ],
   "source": [
    "%%timeit\n",
    "lst1 = [value for i in range(length)]"
   ]
  },
  {
   "cell_type": "markdown",
   "id": "bb7a4436",
   "metadata": {},
   "source": [
    "But what if I tell you there is even more efficient way for this task."
   ]
  },
  {
   "cell_type": "code",
   "execution_count": 43,
   "id": "91cf1fd5",
   "metadata": {},
   "outputs": [
    {
     "name": "stdout",
     "output_type": "stream",
     "text": [
      "177 ns ± 20.9 ns per loop (mean ± std. dev. of 7 runs, 10000000 loops each)\n"
     ]
    }
   ],
   "source": [
    "%%timeit\n",
    "lst2 = [value]*length"
   ]
  },
  {
   "cell_type": "code",
   "execution_count": 41,
   "id": "14eeab6c",
   "metadata": {},
   "outputs": [
    {
     "name": "stdout",
     "output_type": "stream",
     "text": [
      "[10, 10, 10, 10, 10, 10, 10, 10, 10, 10]\n",
      "[10, 10, 10, 10, 10, 10, 10, 10, 10, 10]\n",
      "[10, 10, 10, 10, 10, 10, 10, 10, 10, 10]\n"
     ]
    }
   ],
   "source": [
    "print(lst)\n",
    "print(lst1)\n",
    "print(lst2)"
   ]
  },
  {
   "cell_type": "markdown",
   "id": "f5babef1",
   "metadata": {},
   "source": [
    "<h2>Improve readability of big numbers:</h2><br>\n",
    "Python allows us to use underscores '_' to make big numbers more readable."
   ]
  },
  {
   "cell_type": "code",
   "execution_count": 44,
   "id": "747a7466",
   "metadata": {},
   "outputs": [
    {
     "data": {
      "text/plain": [
       "(1000, 10000000000)"
      ]
     },
     "execution_count": 44,
     "metadata": {},
     "output_type": "execute_result"
    }
   ],
   "source": [
    "10_00, 10_000_000_000"
   ]
  },
  {
   "cell_type": "markdown",
   "id": "07a33c66",
   "metadata": {},
   "source": [
    "<h2>Reversing list or strings:</h2><br>\n",
    "Instead of writing a function every time to reverse a string or a list, slicing can help you to do that just in one line."
   ]
  },
  {
   "cell_type": "code",
   "execution_count": 45,
   "id": "e0b03b57",
   "metadata": {},
   "outputs": [],
   "source": [
    "lst = [1,2,3,4,5]\n",
    "string = \"Python\""
   ]
  },
  {
   "cell_type": "code",
   "execution_count": 46,
   "id": "f25ee299",
   "metadata": {},
   "outputs": [
    {
     "data": {
      "text/plain": [
       "([5, 4, 3, 2, 1], 'nohtyP')"
      ]
     },
     "execution_count": 46,
     "metadata": {},
     "output_type": "execute_result"
    }
   ],
   "source": [
    "lst[::-1],string[::-1]"
   ]
  },
  {
   "cell_type": "markdown",
   "id": "ee58f23b",
   "metadata": {},
   "source": [
    "<h2>Understand the difference between 'is' and '==' :</h2><br>\n",
    "There is a slight difference between two.<br>\n",
    "'is' checks for whether they two variables points to same location or not whereas, \"==\" checks for whether they have the same value or not."
   ]
  },
  {
   "cell_type": "code",
   "execution_count": 47,
   "id": "c13ac1b5",
   "metadata": {},
   "outputs": [],
   "source": [
    "a = [1,2,3]\n",
    "b = [1,2,3]"
   ]
  },
  {
   "cell_type": "code",
   "execution_count": 48,
   "id": "a25a82ba",
   "metadata": {},
   "outputs": [
    {
     "data": {
      "text/plain": [
       "False"
      ]
     },
     "execution_count": 48,
     "metadata": {},
     "output_type": "execute_result"
    }
   ],
   "source": [
    "a is b"
   ]
  },
  {
   "cell_type": "code",
   "execution_count": 49,
   "id": "9daa0e8d",
   "metadata": {},
   "outputs": [
    {
     "data": {
      "text/plain": [
       "(2831656569600, 2831656695360)"
      ]
     },
     "execution_count": 49,
     "metadata": {},
     "output_type": "execute_result"
    }
   ],
   "source": [
    "#The result is False both are stored at different locations in memory\n",
    "id(a), id(b)"
   ]
  },
  {
   "cell_type": "code",
   "execution_count": 50,
   "id": "d5deef45",
   "metadata": {},
   "outputs": [
    {
     "data": {
      "text/plain": [
       "True"
      ]
     },
     "execution_count": 50,
     "metadata": {},
     "output_type": "execute_result"
    }
   ],
   "source": [
    "a==b"
   ]
  },
  {
   "cell_type": "code",
   "execution_count": 51,
   "id": "fc580c77",
   "metadata": {},
   "outputs": [],
   "source": [
    "c = a"
   ]
  },
  {
   "cell_type": "code",
   "execution_count": 52,
   "id": "03978833",
   "metadata": {},
   "outputs": [
    {
     "data": {
      "text/plain": [
       "True"
      ]
     },
     "execution_count": 52,
     "metadata": {},
     "output_type": "execute_result"
    }
   ],
   "source": [
    "c is a"
   ]
  },
  {
   "cell_type": "code",
   "execution_count": 53,
   "id": "ca506f97",
   "metadata": {},
   "outputs": [
    {
     "data": {
      "text/plain": [
       "(2831656569600, 2831656569600)"
      ]
     },
     "execution_count": 53,
     "metadata": {},
     "output_type": "execute_result"
    }
   ],
   "source": [
    "#The above results is True, because both share the same memory location\n",
    "id(c), id(a)"
   ]
  },
  {
   "cell_type": "code",
   "execution_count": 54,
   "id": "f14a8d00",
   "metadata": {},
   "outputs": [
    {
     "data": {
      "text/plain": [
       "True"
      ]
     },
     "execution_count": 54,
     "metadata": {},
     "output_type": "execute_result"
    }
   ],
   "source": [
    "c==a"
   ]
  },
  {
   "cell_type": "markdown",
   "id": "ed212a32",
   "metadata": {},
   "source": [
    "<h2>Unpacking Iterables:</h2><br>\n",
    " Python provides an easier way to unpack iterables using '*' operator."
   ]
  },
  {
   "cell_type": "code",
   "execution_count": 55,
   "id": "9580f16e",
   "metadata": {},
   "outputs": [
    {
     "name": "stdout",
     "output_type": "stream",
     "text": [
      "John\n",
      "24\n",
      "Engineer\n"
     ]
    }
   ],
   "source": [
    "#unpacking an iterable\n",
    "name, age, occupation = [\"John\", \"24\", \"Engineer\"]\n",
    "print(name)\n",
    "print(age)\n",
    "print(occupation)"
   ]
  },
  {
   "cell_type": "markdown",
   "id": "5ada8e3a",
   "metadata": {},
   "source": [
    "Using * operator we can also unpack and store the multiple values in a variable"
   ]
  },
  {
   "cell_type": "code",
   "execution_count": 56,
   "id": "25629273",
   "metadata": {},
   "outputs": [],
   "source": [
    "a, *b = [1,2,34]"
   ]
  },
  {
   "cell_type": "markdown",
   "id": "49797f48",
   "metadata": {},
   "source": [
    "```a``` takes the ```first value``` from the list and ```b``` stores ```rest of the values```"
   ]
  },
  {
   "cell_type": "code",
   "execution_count": 57,
   "id": "239d1d1a",
   "metadata": {},
   "outputs": [
    {
     "data": {
      "text/plain": [
       "(1, [2, 34])"
      ]
     },
     "execution_count": 57,
     "metadata": {},
     "output_type": "execute_result"
    }
   ],
   "source": [
    "a, b"
   ]
  },
  {
   "cell_type": "markdown",
   "id": "d7d74614",
   "metadata": {},
   "source": [
    "If I ask you to print the values of list in a single line,<br>\n",
    "Then, most of the people will take the below approach."
   ]
  },
  {
   "cell_type": "code",
   "execution_count": 58,
   "id": "05a63147",
   "metadata": {},
   "outputs": [
    {
     "name": "stdout",
     "output_type": "stream",
     "text": [
      "1 2 3 4 5 "
     ]
    }
   ],
   "source": [
    "for i in lst:\n",
    "    print(i, end=\" \")"
   ]
  },
  {
   "cell_type": "markdown",
   "id": "7478da06",
   "metadata": {},
   "source": [
    "while, some of you may have used list comprehension"
   ]
  },
  {
   "cell_type": "code",
   "execution_count": 59,
   "id": "7d5b3ac5",
   "metadata": {},
   "outputs": [
    {
     "name": "stdout",
     "output_type": "stream",
     "text": [
      "1 2 3 4 5 "
     ]
    },
    {
     "data": {
      "text/plain": [
       "[None, None, None, None, None]"
      ]
     },
     "execution_count": 59,
     "metadata": {},
     "output_type": "execute_result"
    }
   ],
   "source": [
    "[print(i, end=\" \") for i in lst]"
   ]
  },
  {
   "cell_type": "markdown",
   "id": "c07399ed",
   "metadata": {},
   "source": [
    "But the shortest way possible for this task can be done using the iterable unpacking operator (*):"
   ]
  },
  {
   "cell_type": "code",
   "execution_count": 60,
   "id": "4f815b29",
   "metadata": {},
   "outputs": [
    {
     "name": "stdout",
     "output_type": "stream",
     "text": [
      "1 2 3 4 5\n"
     ]
    }
   ],
   "source": [
    "print(*lst)"
   ]
  },
  {
   "cell_type": "markdown",
   "id": "542219ed",
   "metadata": {},
   "source": [
    "<h2>Dictionary merge operator('|'):</h2><br>\n",
    "This operator was introduced for python 3.9 or greater. This operator allows to merge two dictionaries. If two dictionaries have same key then, the value is updated from right dictionary."
   ]
  },
  {
   "cell_type": "code",
   "execution_count": 61,
   "id": "9da28a82",
   "metadata": {},
   "outputs": [],
   "source": [
    "dct1 = {'a':1, 'b':2, 'c':3}\n",
    "dct2 = {'b':4, 'd':4}"
   ]
  },
  {
   "cell_type": "code",
   "execution_count": 62,
   "id": "470011ea",
   "metadata": {},
   "outputs": [
    {
     "ename": "TypeError",
     "evalue": "unsupported operand type(s) for |: 'dict' and 'dict'",
     "output_type": "error",
     "traceback": [
      "\u001b[1;31m---------------------------------------------------------------------------\u001b[0m",
      "\u001b[1;31mTypeError\u001b[0m                                 Traceback (most recent call last)",
      "\u001b[1;32m<ipython-input-62-f8760608a9ea>\u001b[0m in \u001b[0;36m<module>\u001b[1;34m\u001b[0m\n\u001b[1;32m----> 1\u001b[1;33m \u001b[0mdct1\u001b[0m \u001b[1;33m|\u001b[0m \u001b[0mdct2\u001b[0m\u001b[1;33m\u001b[0m\u001b[1;33m\u001b[0m\u001b[0m\n\u001b[0m",
      "\u001b[1;31mTypeError\u001b[0m: unsupported operand type(s) for |: 'dict' and 'dict'"
     ]
    }
   ],
   "source": [
    "dct1 | dct2"
   ]
  },
  {
   "cell_type": "markdown",
   "id": "c3e54291",
   "metadata": {},
   "source": [
    "As, I am using Python 3.7 therefore, I have got an error"
   ]
  },
  {
   "cell_type": "markdown",
   "id": "a646ade0",
   "metadata": {},
   "source": [
    "For older versions we achieve this by using dictionary unpacking operator (**): <br>"
   ]
  },
  {
   "cell_type": "code",
   "execution_count": 63,
   "id": "cc9d5e35",
   "metadata": {},
   "outputs": [
    {
     "data": {
      "text/plain": [
       "{'a': 1, 'b': 4, 'c': 3, 'd': 4}"
      ]
     },
     "execution_count": 63,
     "metadata": {},
     "output_type": "execute_result"
    }
   ],
   "source": [
    "{**dct1, **dct2}"
   ]
  },
  {
   "cell_type": "markdown",
   "id": "fc66882e",
   "metadata": {},
   "source": [
    "<h2>Dictionary get() function:</h2><br>\n",
    " Avoid using the dct[key] syntax for retrieving value from a dictionary. This method throws an exception if the key does not exist in the dictionary.<br><br>\n",
    " dct.get(key) methods does not raise an exception instead if the key does not exist we can provide a 2nd argument to this function so that if the key does not exist it will use that value."
   ]
  },
  {
   "cell_type": "code",
   "execution_count": 64,
   "id": "2a68e7f9",
   "metadata": {},
   "outputs": [],
   "source": [
    "dct1 = {'a':1, 'b':2, 'c':3}"
   ]
  },
  {
   "cell_type": "code",
   "execution_count": 65,
   "id": "83bf3993",
   "metadata": {},
   "outputs": [
    {
     "ename": "KeyError",
     "evalue": "'e'",
     "output_type": "error",
     "traceback": [
      "\u001b[1;31m---------------------------------------------------------------------------\u001b[0m",
      "\u001b[1;31mKeyError\u001b[0m                                  Traceback (most recent call last)",
      "\u001b[1;32m<ipython-input-65-0226b3fdff21>\u001b[0m in \u001b[0;36m<module>\u001b[1;34m\u001b[0m\n\u001b[1;32m----> 1\u001b[1;33m \u001b[0mdct1\u001b[0m\u001b[1;33m[\u001b[0m\u001b[1;34m'e'\u001b[0m\u001b[1;33m]\u001b[0m\u001b[1;33m\u001b[0m\u001b[1;33m\u001b[0m\u001b[0m\n\u001b[0m",
      "\u001b[1;31mKeyError\u001b[0m: 'e'"
     ]
    }
   ],
   "source": [
    "dct1['e']"
   ]
  },
  {
   "cell_type": "code",
   "execution_count": 66,
   "id": "587257f1",
   "metadata": {},
   "outputs": [
    {
     "name": "stdout",
     "output_type": "stream",
     "text": [
      "Key does not exist\n"
     ]
    }
   ],
   "source": [
    "print(dct1.get('e', 'Key does not exist'))"
   ]
  },
  {
   "cell_type": "markdown",
   "id": "98a5d901",
   "metadata": {},
   "source": [
    "<h2>Convert list to string and string to list:</h2><br>\n",
    " To convert a list into a single string, use join() function."
   ]
  },
  {
   "cell_type": "code",
   "execution_count": 67,
   "id": "bde1d79e",
   "metadata": {},
   "outputs": [
    {
     "data": {
      "text/plain": [
       "'Python is widely used in Data Science'"
      ]
     },
     "execution_count": 67,
     "metadata": {},
     "output_type": "execute_result"
    }
   ],
   "source": [
    "#joining the strings by space\n",
    "\" \".join([\"Python\", \"is\", \"widely\", \"used\", \"in\", \"Data\", \"Science\"])"
   ]
  },
  {
   "cell_type": "code",
   "execution_count": 68,
   "id": "1e314f88",
   "metadata": {},
   "outputs": [
    {
     "data": {
      "text/plain": [
       "'Python,is,widely,used,in,Data,Science'"
      ]
     },
     "execution_count": 68,
     "metadata": {},
     "output_type": "execute_result"
    }
   ],
   "source": [
    "#joining the strings by ','\n",
    "\",\".join([\"Python\", \"is\", \"widely\", \"used\", \"in\", \"Data\", \"Science\"])"
   ]
  },
  {
   "cell_type": "markdown",
   "id": "c36a9c40",
   "metadata": {},
   "source": [
    "Converting string to a list can be achieved by split() function. By default, split() function will spit the string by space to split by any other character, we can pass that character in the split function."
   ]
  },
  {
   "cell_type": "code",
   "execution_count": 69,
   "id": "55a68c5d",
   "metadata": {},
   "outputs": [
    {
     "data": {
      "text/plain": [
       "['Python', 'is', 'widely', 'used', 'in', 'Data', 'Science']"
      ]
     },
     "execution_count": 69,
     "metadata": {},
     "output_type": "execute_result"
    }
   ],
   "source": [
    "string = \"Python is widely used in Data Science\"\n",
    "string.split()"
   ]
  },
  {
   "cell_type": "code",
   "execution_count": 70,
   "id": "bb66ffff",
   "metadata": {},
   "outputs": [
    {
     "data": {
      "text/plain": [
       "['P', 'y', 't', 'h', 'o', 'n']"
      ]
     },
     "execution_count": 70,
     "metadata": {},
     "output_type": "execute_result"
    }
   ],
   "source": [
    "string = \"Python\"\n",
    "list(string)"
   ]
  },
  {
   "cell_type": "markdown",
   "id": "0ae764bb",
   "metadata": {},
   "source": [
    "But what if we need to convert a string of list back to a list for example."
   ]
  },
  {
   "cell_type": "code",
   "execution_count": 1,
   "id": "1cf97242",
   "metadata": {},
   "outputs": [
    {
     "name": "stdout",
     "output_type": "stream",
     "text": [
      "['[', '[', '1', ',', '2', ',', '3', ']', ',', ' ', '[', '4', ',', '5', ',', '6', ']', ']']\n"
     ]
    }
   ],
   "source": [
    "string_lst = \"[[1,2,3], [4,5,6]]\"\n",
    "print(list(string_lst))"
   ]
  },
  {
   "cell_type": "markdown",
   "id": "8455ae91",
   "metadata": {},
   "source": [
    "The list constructor creates a list of characters from the string. Therefore, we didn't got the result that we wanted.<br><br>\n",
    "To get the desired result i.e., a list of lists, we need to use json.loads() function."
   ]
  },
  {
   "cell_type": "code",
   "execution_count": 2,
   "id": "ff96c6ba",
   "metadata": {},
   "outputs": [],
   "source": [
    "import json"
   ]
  },
  {
   "cell_type": "code",
   "execution_count": 3,
   "id": "0c3abe85",
   "metadata": {},
   "outputs": [],
   "source": [
    "lst = json.loads(string_lst)"
   ]
  },
  {
   "cell_type": "code",
   "execution_count": 4,
   "id": "7caff078",
   "metadata": {},
   "outputs": [
    {
     "name": "stdout",
     "output_type": "stream",
     "text": [
      "[[1, 2, 3], [4, 5, 6]]\n",
      "<class 'list'>\n"
     ]
    }
   ],
   "source": [
    "print(lst)\n",
    "print(type(lst))"
   ]
  },
  {
   "cell_type": "markdown",
   "metadata": {},
   "source": [
    "But, `json.loads()` fails when we use other python literals such as tuples or when we have list of strings instead of list of numbers as above. For eg.,"
   ]
  },
  {
   "cell_type": "code",
   "execution_count": 5,
   "metadata": {},
   "outputs": [],
   "source": [
    "x = \"[['a','b','c'], ['d','e','f']]\""
   ]
  },
  {
   "cell_type": "code",
   "execution_count": null,
   "metadata": {},
   "outputs": [],
   "source": [
    "lst = json.loads(x)"
   ]
  },
  {
   "cell_type": "markdown",
   "metadata": {},
   "source": [
    "This will cause `JSONDecodeError`.<br> Let's see what will happen if try to convert a string of tuple to python tuple type."
   ]
  },
  {
   "cell_type": "code",
   "execution_count": 8,
   "metadata": {},
   "outputs": [],
   "source": [
    "x = \"((1,2,3), (4,5,6))\""
   ]
  },
  {
   "cell_type": "code",
   "execution_count": null,
   "metadata": {},
   "outputs": [],
   "source": [
    "lst = json.loads(x)"
   ]
  },
  {
   "cell_type": "markdown",
   "metadata": {},
   "source": [
    "This will again case `JSONDecodeError`.<br><br>\n",
    "Now, in order to deal with such cases we can use Python's ast library short for Abstract Syntax Trees. More specifically we will use ast.literal_eval() function which deals with all the python literals."
   ]
  },
  {
   "cell_type": "code",
   "execution_count": 12,
   "metadata": {},
   "outputs": [],
   "source": [
    "from ast import literal_eval"
   ]
  },
  {
   "cell_type": "code",
   "execution_count": 13,
   "metadata": {},
   "outputs": [
    {
     "name": "stdout",
     "output_type": "stream",
     "text": [
      "<class 'list'>\n",
      "[['a', 'b', 'c'], ['d', 'e', 'f']]\n"
     ]
    }
   ],
   "source": [
    "x = \"[['a','b','c'], ['d','e','f']]\"\n",
    "x_lst = literal_eval(x)\n",
    "print(type(x_lst))\n",
    "print(x_lst)"
   ]
  },
  {
   "cell_type": "code",
   "execution_count": 14,
   "metadata": {},
   "outputs": [
    {
     "name": "stdout",
     "output_type": "stream",
     "text": [
      "<class 'tuple'>\n",
      "((1, 2, 3), (4, 5, 6))\n"
     ]
    }
   ],
   "source": [
    "x = \"((1,2,3), (4,5,6))\"\n",
    "x_tpl = literal_eval(x)\n",
    "print(type(x_tpl))\n",
    "print(x_tpl)"
   ]
  }
 ],
 "metadata": {
  "kernelspec": {
   "display_name": "Python 3",
   "language": "python",
   "name": "python3"
  },
  "language_info": {
   "codemirror_mode": {
    "name": "ipython",
    "version": 3
   },
   "file_extension": ".py",
   "mimetype": "text/x-python",
   "name": "python",
   "nbconvert_exporter": "python",
   "pygments_lexer": "ipython3",
   "version": "3.10.12"
  }
 },
 "nbformat": 4,
 "nbformat_minor": 5
}
